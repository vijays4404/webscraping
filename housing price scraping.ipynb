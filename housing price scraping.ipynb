{
 "cells": [
  {
   "cell_type": "code",
   "execution_count": 33,
   "metadata": {},
   "outputs": [],
   "source": [
    "#importing library\n",
    "# pip install lxml\n",
    "\n",
    "from csv import writer \n",
    "from bs4 import BeautifulSoup\n",
    "import requests\n",
    "from html.parser import HTMLParser"
   ]
  },
  {
   "cell_type": "code",
   "execution_count": 2,
   "metadata": {},
   "outputs": [],
   "source": [
    "#ssaving url\n",
    "url='https://www.pararius.com/apartments/almere/address-nederlandstraat?ac=1'"
   ]
  },
  {
   "cell_type": "code",
   "execution_count": 4,
   "metadata": {},
   "outputs": [
    {
     "name": "stdout",
     "output_type": "stream",
     "text": [
      "<Response [200]>\n"
     ]
    }
   ],
   "source": [
    "#calling the page\n",
    "page=requests.get(url)\n",
    "#printing the page\n",
    "print(page)"
   ]
  },
  {
   "cell_type": "code",
   "execution_count": 11,
   "metadata": {},
   "outputs": [],
   "source": [
    "soup=BeautifulSoup(page.content,'lxml')\n"
   ]
  },
  {
   "cell_type": "code",
   "execution_count": 19,
   "metadata": {},
   "outputs": [],
   "source": [
    "lists=soup.find_all('section',class_='listing-search-item')\n"
   ]
  },
  {
   "cell_type": "code",
   "execution_count": 37,
   "metadata": {},
   "outputs": [],
   "source": [
    "for list in lists:\n",
    "    title=list.find('a',class_='listing-search-item__link listing-search-item__link--title').text.replace('\\n',\"\")\n",
    "    location=list.find('div',class_='listing-search-item__location').text.replace('\\n',\"\")\n",
    "    price=list.find('div',class_='listing-search-item__price').text.replace('\\n',\"\")\n",
    "    area=list.find('li',class_='illustrated-features__item illustrated-features__item--surface-area').text.replace('\\n',\"\")\n",
    "    info=[title, location,price,area]\n",
    "  "
   ]
  },
  {
   "cell_type": "code",
   "execution_count": 36,
   "metadata": {},
   "outputs": [],
   "source": [
    "with open('housing.csv','w',encoding='utf8',newline='') as f:\n",
    "    thewriter=writer(f)\n",
    "    header=['Title','Location','Price','Area']\n",
    "    thewriter.writerow(header)\n",
    "    for list in lists:\n",
    "        title=list.find('a',class_='listing-search-item__link listing-search-item__link--title').text.replace('\\n',\"\")\n",
    "        location=list.find('div',class_='listing-search-item__location').text.replace('\\n',\"\")\n",
    "        price=list.find('div',class_='listing-search-item__price').text.replace('\\n',\"\")\n",
    "        area=list.find('li',class_='illustrated-features__item illustrated-features__item--surface-area').text.replace('\\n',\"\")\n",
    "        info=[title, location,price,area]\n",
    "        thewriter.writerow(info)"
   ]
  },
  {
   "cell_type": "code",
   "execution_count": null,
   "metadata": {},
   "outputs": [],
   "source": [
    "\n"
   ]
  }
 ],
 "metadata": {
  "kernelspec": {
   "display_name": "Python 3",
   "language": "python",
   "name": "python3"
  },
  "language_info": {
   "codemirror_mode": {
    "name": "ipython",
    "version": 3
   },
   "file_extension": ".py",
   "mimetype": "text/x-python",
   "name": "python",
   "nbconvert_exporter": "python",
   "pygments_lexer": "ipython3",
   "version": "3.8.5"
  }
 },
 "nbformat": 4,
 "nbformat_minor": 4
}
